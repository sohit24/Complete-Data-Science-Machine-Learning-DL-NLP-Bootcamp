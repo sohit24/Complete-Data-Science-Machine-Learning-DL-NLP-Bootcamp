{
 "cells": [
  {
   "cell_type": "markdown",
   "metadata": {},
   "source": [
    "This is about the Exception handling this is not everything about the exception handling\n"
   ]
  },
  {
   "cell_type": "code",
   "execution_count": null,
   "metadata": {},
   "outputs": [
    {
     "name": "stdout",
     "output_type": "stream",
     "text": [
      "division by zero\n"
     ]
    }
   ],
   "source": [
    "## Even though I have written two exceptions the cursor stops at res and encounters zeroDivision error \n",
    "# and it jumps to except blocks so we couldn't get the nameError exception\n",
    "try:\n",
    "    res = 1/0\n",
    "    a = b\n",
    "except NameError as ex:\n",
    "    print(ex)\n",
    "except Exception as e:\n",
    "    print(e)\n",
    "\n",
    "## the 2nd block doesn't require you to know the error it will automatically detect and give you the correct exception\n"
   ]
  },
  {
   "cell_type": "code",
   "execution_count": 14,
   "metadata": {},
   "outputs": [
    {
     "name": "stdout",
     "output_type": "stream",
     "text": [
      "invalid literal for int() with base 10: 'sohit'\n"
     ]
    }
   ],
   "source": [
    "## we can use else\n",
    "## this is just like if - else statements\n",
    "\n",
    "try:\n",
    "    num = int(input())\n",
    "    res = 1/num\n",
    "except ValueError as ex:\n",
    "    print(ex)\n",
    "except Exception as e:\n",
    "    print(e)\n",
    "else:\n",
    "    print(f\"The result is {res}\")"
   ]
  },
  {
   "cell_type": "code",
   "execution_count": null,
   "metadata": {},
   "outputs": [
    {
     "name": "stdout",
     "output_type": "stream",
     "text": [
      "division by zero\n",
      "The excecution is complete\n"
     ]
    }
   ],
   "source": [
    "## This is else and finally\n",
    "try:\n",
    "    num = int(input())\n",
    "    res = 1/num\n",
    "except ValueError as ex:\n",
    "    print(ex)\n",
    "except Exception as e:\n",
    "    print(e)\n",
    "else:\n",
    "    print(f\"The result is {res}\")\n",
    "finally:\n",
    "    print(\"The excecution is complete\")\n",
    "\n",
    "## The finally block just runs what ever the output is it just excecutes"
   ]
  },
  {
   "cell_type": "code",
   "execution_count": null,
   "metadata": {},
   "outputs": [],
   "source": []
  }
 ],
 "metadata": {
  "kernelspec": {
   "display_name": "Python 3",
   "language": "python",
   "name": "python3"
  },
  "language_info": {
   "codemirror_mode": {
    "name": "ipython",
    "version": 3
   },
   "file_extension": ".py",
   "mimetype": "text/x-python",
   "name": "python",
   "nbconvert_exporter": "python",
   "pygments_lexer": "ipython3",
   "version": "3.10.0"
  }
 },
 "nbformat": 4,
 "nbformat_minor": 2
}

{
 "cells": [
  {
   "cell_type": "markdown",
   "metadata": {},
   "source": [
    "# Functions\n"
   ]
  },
  {
   "cell_type": "markdown",
   "metadata": {},
   "source": [
    "Functions are blocks of code that performs a specific task, they allow us to reuse the block of code, and organize the code."
   ]
  },
  {
   "cell_type": "code",
   "execution_count": 1,
   "metadata": {},
   "outputs": [],
   "source": [
    "# Basic syntax of Functions\n",
    "def function_name(parameters):\n",
    "    # function body\n",
    "    return 'something'"
   ]
  },
  {
   "cell_type": "code",
   "execution_count": null,
   "metadata": {},
   "outputs": [],
   "source": [
    "''' \n",
    "There are different types of arguments:\n",
    "1. Positional Arguments\n",
    "2. Keyword Arguments\n",
    "3. Default Arguments\n",
    "4. Arbitrary Arguments\n",
    "'''\n",
    "#Positional Arguments\n",
    "#by using the symbol \"*\" we can insert as many args as possible and we can also replace the word \"args\"\n",
    "# with any other word like \"*sohit\" but we use the standard way of using this which is *args\n",
    "def hello(*args):\n",
    "    for num in args:\n",
    "        print(num)"
   ]
  },
  {
   "cell_type": "code",
   "execution_count": 5,
   "metadata": {},
   "outputs": [
    {
     "name": "stdout",
     "output_type": "stream",
     "text": [
      "1\n",
      "2\n",
      "3\n",
      "Hello\n",
      "True\n"
     ]
    }
   ],
   "source": [
    "hello(1,2,3,\"Hello\",True)"
   ]
  },
  {
   "cell_type": "code",
   "execution_count": 20,
   "metadata": {},
   "outputs": [],
   "source": [
    "# Keyword Arguments\n",
    "# These are similar to dictionaries --> which uses key, value pair and they are defined by using *kwargs\n",
    "\n",
    "def hello_again(**kwargs):\n",
    "    for key,val in kwargs.items():\n",
    "        print(f\"{key}:{val}\")"
   ]
  },
  {
   "cell_type": "code",
   "execution_count": 21,
   "metadata": {},
   "outputs": [
    {
     "name": "stdout",
     "output_type": "stream",
     "text": [
      "name:Sohit\n",
      "dept:any\n"
     ]
    }
   ],
   "source": [
    "hello_again(name = \"Sohit\", dept = \"any\")"
   ]
  },
  {
   "cell_type": "code",
   "execution_count": 24,
   "metadata": {},
   "outputs": [],
   "source": [
    "# Arbitrary is nothing but the combination of positional and keyword args\n",
    "\n",
    "def arbitrary(*args, **kwargs):\n",
    "    for num in args:\n",
    "        print(num)\n",
    "    for key,val in kwargs.items():\n",
    "        print(f\"{key}:{val}\")\n",
    "        "
   ]
  },
  {
   "cell_type": "code",
   "execution_count": null,
   "metadata": {},
   "outputs": [
    {
     "name": "stdout",
     "output_type": "stream",
     "text": [
      "1\n",
      "2\n",
      "sohit\n",
      "name:naidu\n",
      "dept:sales\n"
     ]
    }
   ],
   "source": [
    "# Whenever we are using this arbitrary method we need to pass the args in order 1st comes positional and then keyword.\n",
    "arbitrary(1,2,\"sohit\",name = \"naidu\", dept = \"sales\")"
   ]
  },
  {
   "cell_type": "code",
   "execution_count": 31,
   "metadata": {},
   "outputs": [],
   "source": [
    "# Default\n",
    "def greetings(name = \"Demo\"):\n",
    "    print(\"Hello \" + name)\n"
   ]
  },
  {
   "cell_type": "code",
   "execution_count": null,
   "metadata": {},
   "outputs": [
    {
     "name": "stdout",
     "output_type": "stream",
     "text": [
      "Hello Demo\n"
     ]
    }
   ],
   "source": [
    "# When we give an argument it takes this into account or else we can give a default argument if \n",
    "# anything isn't mentioned while the time of calling the function\n",
    "# But if you pass any args while calling the function it gives priority to that\n",
    "greetings()"
   ]
  },
  {
   "cell_type": "code",
   "execution_count": null,
   "metadata": {},
   "outputs": [],
   "source": []
  }
 ],
 "metadata": {
  "kernelspec": {
   "display_name": "Python 3",
   "language": "python",
   "name": "python3"
  },
  "language_info": {
   "codemirror_mode": {
    "name": "ipython",
    "version": 3
   },
   "file_extension": ".py",
   "mimetype": "text/x-python",
   "name": "python",
   "nbconvert_exporter": "python",
   "pygments_lexer": "ipython3",
   "version": "3.10.0"
  }
 },
 "nbformat": 4,
 "nbformat_minor": 2
}

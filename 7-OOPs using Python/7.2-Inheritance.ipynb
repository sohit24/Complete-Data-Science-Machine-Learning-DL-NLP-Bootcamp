{
 "cells": [
  {
   "cell_type": "markdown",
   "metadata": {},
   "source": [
    "# Inheritance"
   ]
  },
  {
   "cell_type": "markdown",
   "metadata": {},
   "source": [
    "Inheritance is a fundamental concept in oops, which allows us to inherit attributes and methods from another class. In this session we will see single and multiple inheritance"
   ]
  },
  {
   "cell_type": "code",
   "execution_count": 2,
   "metadata": {},
   "outputs": [],
   "source": [
    "class Car:\n",
    "    def __init__(self, windows, doors, enginetype):\n",
    "        self.windows = windows\n",
    "        self.doors = doors\n",
    "        self.enginetype = enginetype\n",
    "    \n",
    "    def drive(self):\n",
    "        print(f\"I am riding a {self.enginetype} vehicle\")"
   ]
  },
  {
   "cell_type": "code",
   "execution_count": 7,
   "metadata": {},
   "outputs": [
    {
     "name": "stdout",
     "output_type": "stream",
     "text": [
      "I am riding a Petrol vehicle\n"
     ]
    }
   ],
   "source": [
    "audi = Car(4,2,\"Petrol\")\n",
    "audi.drive()"
   ]
  },
  {
   "cell_type": "code",
   "execution_count": 8,
   "metadata": {},
   "outputs": [
    {
     "name": "stdout",
     "output_type": "stream",
     "text": [
      "4\n"
     ]
    }
   ],
   "source": [
    "## Single inheritance\n",
    "\n",
    "class Tesla(Car):\n",
    "    def __init__(self, windows, doors, enginetype, color):\n",
    "        super().__init__(windows, doors, enginetype) ## We are going to inherit all the parents attributes by using Super() keyword \n",
    "        self.color = color\n",
    "\n",
    "    def color(self):\n",
    "        print(f\"Tesla has many colors and {self.color} is one of them\")\n",
    "\n",
    "h1 = Tesla(4,2, \"electric\", \"white\")\n",
    "h1.color\n",
    "\n",
    "print(h1.windows)"
   ]
  },
  {
   "cell_type": "code",
   "execution_count": null,
   "metadata": {},
   "outputs": [
    {
     "data": {
      "text/plain": [
       "'I cannot say Woof'"
      ]
     },
     "execution_count": 11,
     "metadata": {},
     "output_type": "execute_result"
    }
   ],
   "source": [
    "## Multiple Inheritance\n",
    "## Base Class 1\n",
    "class Animal:\n",
    "    def __init__(self, name):\n",
    "        self.name = name\n",
    "    \n",
    "    def Speak(self):\n",
    "        return f\"Animal cannot speak\"\n",
    "\n",
    "## Base Class 2\n",
    "class Pet:\n",
    "    def __init__(self, owner):\n",
    "        self.owner = owner\n",
    "\n",
    "## Derived Class\n",
    "class Dog(Animal, Pet):\n",
    "    def __init__(self, name, owner):\n",
    "        Animal.__init__(self, name)\n",
    "        Pet.__init__(self, owner)\n",
    "\n",
    "    ## Since this is the main class's function it has more priority than the Animal's class\n",
    "    def Speak(self):\n",
    "        return \"I cannot say Woof\"\n",
    "\n",
    "## Creating object\n",
    "dog = Dog(\"Buddy\", \"Sohit\")\n",
    "\n",
    "## Calling the speak function using dog object\n",
    "dog.Speak()\n"
   ]
  }
 ],
 "metadata": {
  "kernelspec": {
   "display_name": "Python 3",
   "language": "python",
   "name": "python3"
  },
  "language_info": {
   "codemirror_mode": {
    "name": "ipython",
    "version": 3
   },
   "file_extension": ".py",
   "mimetype": "text/x-python",
   "name": "python",
   "nbconvert_exporter": "python",
   "pygments_lexer": "ipython3",
   "version": "3.10.0"
  }
 },
 "nbformat": 4,
 "nbformat_minor": 2
}

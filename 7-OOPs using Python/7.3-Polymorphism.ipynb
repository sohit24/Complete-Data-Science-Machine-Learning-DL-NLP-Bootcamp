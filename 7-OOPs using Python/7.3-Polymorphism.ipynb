{
 "cells": [
  {
   "cell_type": "markdown",
   "metadata": {},
   "source": [
    "# Polymorphism"
   ]
  },
  {
   "cell_type": "markdown",
   "metadata": {},
   "source": [
    "Polymorphism is a functionality of Object-Oriented Programming where a method can have different behaviours based upon the object that is calling\n",
    "\n",
    "Polymorphism --> Many forms --> one method can have many forms\n",
    "this can be done by using \n",
    "1. Method Overriding\n",
    "2. Method Overloading"
   ]
  },
  {
   "cell_type": "code",
   "execution_count": null,
   "metadata": {},
   "outputs": [
    {
     "name": "stdout",
     "output_type": "stream",
     "text": [
      "Woof!\n",
      "Meow\n",
      "The Animal Sound\n"
     ]
    }
   ],
   "source": [
    "## A single method named speak() is used in different classes which return different outputs\n",
    "## this is called as method overriding.\n",
    "\n",
    "### Polymorphism Using Method Overriding (Runtime polymorphism)\n",
    "\n",
    "class Animal:\n",
    "    def speak(self):\n",
    "        return \"The Animal Sound\"\n",
    "\n",
    "class Dog(Animal):    \n",
    "    def speak(self):\n",
    "        return \"Woof!\"\n",
    "\n",
    "class Cat(Animal):\n",
    "    def speak(self):\n",
    "        return \"Meow\"\n",
    "    \n",
    "dog = Dog()\n",
    "cat = Cat()\n",
    "animal = Animal() \n",
    "\n",
    "print(dog.speak())\n",
    "print(cat.speak())\n",
    "print(animal.speak())"
   ]
  },
  {
   "cell_type": "code",
   "execution_count": null,
   "metadata": {},
   "outputs": [
    {
     "data": {
      "text/plain": [
       "'Bike sound'"
      ]
     },
     "execution_count": 23,
     "metadata": {},
     "output_type": "execute_result"
    }
   ],
   "source": [
    "### Polymorphism using Abstract Base Class\n",
    "## Python doen't support Method Overloading like in other languages instead \n",
    "## we use Interfaces(Abstract Methods)\n",
    "\n",
    "from abc import ABC, abstractmethod\n",
    "\n",
    "class Vehicle(ABC):\n",
    "    @abstractmethod\n",
    "    def start_engine(self):\n",
    "        pass\n",
    "\n",
    "class Bike(Vehicle):\n",
    "    def start_engine(self):\n",
    "        return \"Bike sound\"\n",
    "    \n",
    "bike = Bike()\n",
    "bike.start_engine()\n"
   ]
  },
  {
   "cell_type": "code",
   "execution_count": null,
   "metadata": {},
   "outputs": [],
   "source": []
  }
 ],
 "metadata": {
  "kernelspec": {
   "display_name": "Python 3",
   "language": "python",
   "name": "python3"
  },
  "language_info": {
   "codemirror_mode": {
    "name": "ipython",
    "version": 3
   },
   "file_extension": ".py",
   "mimetype": "text/x-python",
   "name": "python",
   "nbconvert_exporter": "python",
   "pygments_lexer": "ipython3",
   "version": "3.10.0"
  }
 },
 "nbformat": 4,
 "nbformat_minor": 2
}

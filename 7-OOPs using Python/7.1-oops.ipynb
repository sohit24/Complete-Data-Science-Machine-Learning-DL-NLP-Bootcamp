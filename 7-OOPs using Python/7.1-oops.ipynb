{
 "cells": [
  {
   "cell_type": "markdown",
   "metadata": {},
   "source": [
    "### OOPs Using Python"
   ]
  },
  {
   "cell_type": "markdown",
   "metadata": {},
   "source": [
    "OOPs is a programming pattern/way where we use objects for designing of computer programs or designing applications "
   ]
  },
  {
   "cell_type": "markdown",
   "metadata": {},
   "source": [
    "## Code With Constructor"
   ]
  },
  {
   "cell_type": "code",
   "execution_count": 15,
   "metadata": {},
   "outputs": [
    {
     "name": "stdout",
     "output_type": "stream",
     "text": [
      "2\n",
      "2\n"
     ]
    },
    {
     "ename": "AttributeError",
     "evalue": "'Car' object has no attribute 'engine'",
     "output_type": "error",
     "traceback": [
      "\u001b[1;31m---------------------------------------------------------------------------\u001b[0m",
      "\u001b[1;31mAttributeError\u001b[0m                            Traceback (most recent call last)",
      "Cell \u001b[1;32mIn[15], line 13\u001b[0m\n\u001b[0;32m     11\u001b[0m \u001b[38;5;28mprint\u001b[39m(audi\u001b[38;5;241m.\u001b[39mdoors)\n\u001b[0;32m     12\u001b[0m \u001b[38;5;28mprint\u001b[39m(bmw\u001b[38;5;241m.\u001b[39mdoors)\n\u001b[1;32m---> 13\u001b[0m \u001b[38;5;28mprint\u001b[39m(\u001b[43maudi\u001b[49m\u001b[38;5;241;43m.\u001b[39;49m\u001b[43mengine\u001b[49m) \u001b[38;5;66;03m## Since we haven't defined any attributes named engine this is giving error\u001b[39;00m\n",
      "\u001b[1;31mAttributeError\u001b[0m: 'Car' object has no attribute 'engine'"
     ]
    }
   ],
   "source": [
    "### Code with Constructor\n",
    "class Car:\n",
    "    # Constructor\n",
    "    def __init__(self, doors, tyres):\n",
    "        self.doors = doors\n",
    "        self.tyres = tyres\n",
    "    \n",
    "audi = Car(2, 4)\n",
    "bmw = Car(2,3)\n",
    "\n",
    "print(audi.doors)\n",
    "print(bmw.doors)\n",
    "print(audi.engine) ## Since we haven't defined any attributes named engine this is giving error"
   ]
  },
  {
   "cell_type": "markdown",
   "metadata": {},
   "source": [
    "self.door  = doors \n",
    "\n",
    "doors --> is the value we are passing as an argument\n",
    "\n",
    "self.door --> this indicates the door which belongs to the object. \n",
    "\n",
    "self --> When we create an object, Python needs a way to keep track of its attributes (data).\n",
    "         self tells Python, \"Hey, this attribute belongs to this object!\"\n"
   ]
  },
  {
   "cell_type": "markdown",
   "metadata": {},
   "source": [
    "Term\tExplanation\n",
    "\n",
    "self --> Reference to the current object being created/used.\n",
    "\n",
    "self.brand --> An attribute that belongs to the object (stores data).\n",
    "\n",
    "brand (parameter) --> The value passed when creating the object.\n",
    "\n",
    "self.brand = brand --> Assigns the value to the object’s attribute."
   ]
  },
  {
   "cell_type": "markdown",
   "metadata": {},
   "source": [
    "## Code Without Constructor"
   ]
  },
  {
   "cell_type": "code",
   "execution_count": 18,
   "metadata": {},
   "outputs": [
    {
     "name": "stdout",
     "output_type": "stream",
     "text": [
      "2\n",
      "2\n"
     ]
    }
   ],
   "source": [
    "###Code without Constructor\n",
    "class Car:\n",
    "    pass\n",
    "\n",
    "audi = Car() ## Created an object \n",
    "audi.doors = 2 ## assigning attributes and initialising them\n",
    "audi.windows = 4\n",
    "\n",
    "### we have to repeat this process everytime we create a new object and assign attributes to them\n",
    "\n",
    "print(audi.doors)\n",
    "\n",
    "bmw = Car()\n",
    "bmw.doors = 4\n",
    "bmw.windows = 2\n",
    "\n",
    "print(bmw.windows)"
   ]
  },
  {
   "cell_type": "markdown",
   "metadata": {},
   "source": [
    "## Assignments of OOPs"
   ]
  },
  {
   "cell_type": "code",
   "execution_count": 20,
   "metadata": {},
   "outputs": [
    {
     "name": "stdout",
     "output_type": "stream",
     "text": [
      "C-Class\n"
     ]
    }
   ],
   "source": [
    "## 1\n",
    "class Car:\n",
    "    def __init__(self, make, model,year):\n",
    "        self.make = make\n",
    "        self.model = model\n",
    "        self.year = year\n",
    "    \n",
    "benz = Car(\"Mercedez-Benz\", \"C-Class\", 2023)\n",
    "\n",
    "print(benz.model)"
   ]
  },
  {
   "cell_type": "markdown",
   "metadata": {},
   "source": [
    "In the below code I haven't mentioned \"self\" as a parameter in the instance method since i haven't used it the method becomes a noraml method so it doesn't work with method\n",
    "\n",
    "that means -> audi.start_engine() doesn't work\n",
    "\n",
    "instead --> Car.start_engine() --> we call the method using the class name"
   ]
  },
  {
   "cell_type": "code",
   "execution_count": 29,
   "metadata": {},
   "outputs": [
    {
     "name": "stdout",
     "output_type": "stream",
     "text": [
      "Engine Started\n"
     ]
    }
   ],
   "source": [
    "class Car:\n",
    "    def start_engine():\n",
    "        print(\"Engine Started\")\n",
    "\n",
    "audi = Car()\n",
    "\n",
    "Car.start_engine()"
   ]
  },
  {
   "cell_type": "code",
   "execution_count": 31,
   "metadata": {},
   "outputs": [
    {
     "name": "stdout",
     "output_type": "stream",
     "text": [
      "Sohit\n",
      "21\n"
     ]
    }
   ],
   "source": [
    "class Student:\n",
    "    def __init__(self, name, age):\n",
    "        self.name = name\n",
    "        self.age = age\n",
    "    \n",
    "std1 = Student(\"Sohit\",21)\n",
    "\n",
    "print(std1.name)\n",
    "print(std1.age)"
   ]
  },
  {
   "cell_type": "code",
   "execution_count": null,
   "metadata": {},
   "outputs": [
    {
     "name": "stdout",
     "output_type": "stream",
     "text": [
      "1500\n"
     ]
    }
   ],
   "source": [
    "### Class with Private Attributes\n",
    "\n",
    "class BankAccount:\n",
    "    def __init__(self, account_number, balance):\n",
    "        self.__account_number = account_number\n",
    "        self.__balance = balance\n",
    "        \n",
    "\n",
    "    def get_account_number(self):\n",
    "        return self.__account_number\n",
    "    \n",
    "    def get_balance(self):\n",
    "        return self.__balance\n",
    "    \n",
    "    def deposit(self,amount):\n",
    "        self.__balance += amount\n",
    "        print(self.__balance)\n",
    "    \n",
    "    ## similarly for withdrawl\n",
    "\n",
    "account = BankAccount('12345', 1000)\n",
    "account.deposit(500)\n",
    "    "
   ]
  },
  {
   "cell_type": "code",
   "execution_count": null,
   "metadata": {},
   "outputs": [],
   "source": []
  }
 ],
 "metadata": {
  "kernelspec": {
   "display_name": "Python 3",
   "language": "python",
   "name": "python3"
  },
  "language_info": {
   "codemirror_mode": {
    "name": "ipython",
    "version": 3
   },
   "file_extension": ".py",
   "mimetype": "text/x-python",
   "name": "python",
   "nbconvert_exporter": "python",
   "pygments_lexer": "ipython3",
   "version": "3.10.0"
  }
 },
 "nbformat": 4,
 "nbformat_minor": 2
}

{
 "cells": [
  {
   "cell_type": "markdown",
   "metadata": {},
   "source": [
    "### Sqllite3 "
   ]
  },
  {
   "cell_type": "code",
   "execution_count": 58,
   "metadata": {},
   "outputs": [],
   "source": [
    "import sqlite3\n",
    "connection = sqlite3.connect('trial.db')"
   ]
  },
  {
   "cell_type": "code",
   "execution_count": 59,
   "metadata": {},
   "outputs": [],
   "source": [
    "cursor = connection.cursor()"
   ]
  },
  {
   "cell_type": "code",
   "execution_count": 63,
   "metadata": {},
   "outputs": [],
   "source": [
    "cursor.execute('''\n",
    "    create table if not exists Students(\n",
    "               Id integer Primary Key,\n",
    "               Name text,\n",
    "               Age integer,\n",
    "               Department text)\n",
    "''')\n",
    "\n",
    "connection.commit()"
   ]
  },
  {
   "cell_type": "code",
   "execution_count": null,
   "metadata": {},
   "outputs": [],
   "source": [
    "### I don't know why but there was an error which says that there was no column Department so I have to add it again manually\n",
    "\n",
    "cursor.execute(\"ALTER TABLE Students ADD COLUMN Department TEXT\")\n",
    "connection.commit()\n"
   ]
  },
  {
   "cell_type": "code",
   "execution_count": 67,
   "metadata": {},
   "outputs": [],
   "source": [
    "cursor.execute('''\n",
    "    insert into Students(Name, Age, Department)\n",
    "               values(\"Sohit\", 21, \"ECE\")\n",
    "''')\n",
    "cursor.execute('''\n",
    "    insert into Students(Name, Age, Department)\n",
    "               values(\"Aladdin\", 31, \"CS\")\n",
    "''')\n",
    "cursor.execute('''\n",
    "    insert into Students(Name, Age, Department)\n",
    "               values(\"Alibaba\", 41, \"IOT\")\n",
    "''')\n",
    "\n",
    "connection.commit()"
   ]
  },
  {
   "cell_type": "code",
   "execution_count": 72,
   "metadata": {},
   "outputs": [
    {
     "name": "stdout",
     "output_type": "stream",
     "text": [
      "(1, 'Sohit', 21, None, 'ECE')\n",
      "(2, 'Sohit', 21, None, 'ECE')\n",
      "(3, 'Aladdin', 31, None, 'CS')\n",
      "(4, 'Alibaba', 41, None, 'IOT')\n"
     ]
    }
   ],
   "source": [
    "cursor.execute('select * from Students')\n",
    "rows = cursor.fetchall()\n",
    "\n",
    "for row in rows:\n",
    "    print(row)\n",
    "\n"
   ]
  },
  {
   "cell_type": "code",
   "execution_count": 76,
   "metadata": {},
   "outputs": [],
   "source": [
    "cursor.execute('delete from Students where Id =1')\n",
    "connection.commit()"
   ]
  },
  {
   "cell_type": "code",
   "execution_count": 77,
   "metadata": {},
   "outputs": [
    {
     "name": "stdout",
     "output_type": "stream",
     "text": [
      "(2, 'Sohit', 21, None, 'ECE')\n",
      "(3, 'Aladdin', 31, None, 'CS')\n",
      "(4, 'Alibaba', 41, None, 'IOT')\n"
     ]
    }
   ],
   "source": [
    "cursor.execute('select * from Students')\n",
    "rows = cursor.fetchall()\n",
    "\n",
    "for row in rows:\n",
    "    print(row)\n"
   ]
  },
  {
   "cell_type": "code",
   "execution_count": null,
   "metadata": {},
   "outputs": [
    {
     "data": {
      "text/plain": [
       "<sqlite3.Cursor at 0x22f41c8c3c0>"
      ]
     },
     "execution_count": 78,
     "metadata": {},
     "output_type": "execute_result"
    }
   ],
   "source": [
    "### The sqllite3 doesn't offer auto adjustment of the id's. So I have to delete all the rows and have to do it again\n",
    "cursor.execute('delete from Students')"
   ]
  },
  {
   "cell_type": "code",
   "execution_count": 79,
   "metadata": {},
   "outputs": [],
   "source": [
    "cursor.execute('select * from Students')\n",
    "rows = cursor.fetchall()\n",
    "\n",
    "for row in rows:\n",
    "    print(row)"
   ]
  },
  {
   "cell_type": "code",
   "execution_count": 80,
   "metadata": {},
   "outputs": [],
   "source": [
    "cursor.execute('''\n",
    "    insert into Students(Name, Age, Department)\n",
    "               values(\"Sohit\", 21, \"ECE\")\n",
    "''')\n",
    "cursor.execute('''\n",
    "    insert into Students(Name, Age, Department)\n",
    "               values(\"Aladdin\", 31, \"CS\")\n",
    "''')\n",
    "cursor.execute('''\n",
    "    insert into Students(Name, Age, Department)\n",
    "               values(\"Alibaba\", 41, \"IOT\")\n",
    "''')\n",
    "\n",
    "connection.commit()"
   ]
  },
  {
   "cell_type": "code",
   "execution_count": 81,
   "metadata": {},
   "outputs": [
    {
     "name": "stdout",
     "output_type": "stream",
     "text": [
      "(1, 'Sohit', 21, None, 'ECE')\n",
      "(2, 'Aladdin', 31, None, 'CS')\n",
      "(3, 'Alibaba', 41, None, 'IOT')\n"
     ]
    }
   ],
   "source": [
    "cursor.execute('select * from Students')\n",
    "rows = cursor.fetchall()\n",
    "\n",
    "for row in rows:\n",
    "    print(row)"
   ]
  },
  {
   "cell_type": "code",
   "execution_count": null,
   "metadata": {},
   "outputs": [],
   "source": []
  }
 ],
 "metadata": {
  "kernelspec": {
   "display_name": "Python 3",
   "language": "python",
   "name": "python3"
  },
  "language_info": {
   "codemirror_mode": {
    "name": "ipython",
    "version": 3
   },
   "file_extension": ".py",
   "mimetype": "text/x-python",
   "name": "python",
   "nbconvert_exporter": "python",
   "pygments_lexer": "ipython3",
   "version": "3.10.0"
  }
 },
 "nbformat": 4,
 "nbformat_minor": 2
}

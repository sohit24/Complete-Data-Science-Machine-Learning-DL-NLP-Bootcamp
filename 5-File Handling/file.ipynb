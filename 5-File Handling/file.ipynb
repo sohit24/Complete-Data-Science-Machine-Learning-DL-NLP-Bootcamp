{
 "cells": [
  {
   "cell_type": "code",
   "execution_count": null,
   "metadata": {},
   "outputs": [
    {
     "name": "stdout",
     "output_type": "stream",
     "text": [
      "Hello Everyone\n",
      "How are you!!\n",
      "\n"
     ]
    }
   ],
   "source": [
    "### There are different types of File Handling\n",
    "with open('example.txt','r') as file:\n",
    "    content = file.read()\n",
    "print(content)\n",
    "\n",
    "## I have accessed the file example.txt and displayed using the "
   ]
  },
  {
   "cell_type": "code",
   "execution_count": 19,
   "metadata": {},
   "outputs": [
    {
     "name": "stdout",
     "output_type": "stream",
     "text": [
      "13\n"
     ]
    }
   ],
   "source": [
    "### Writing in a file\n",
    "with open('example.txt','w') as file:\n",
    "    content = file.write(\"Good morning\\n\")\n",
    "print(content)\n",
    "\n",
    "## the entire text in the example.txt is over written to \"Good morning\" earlier it used to be a bunch of things"
   ]
  },
  {
   "cell_type": "code",
   "execution_count": 20,
   "metadata": {},
   "outputs": [],
   "source": [
    "### Appending in a file\n",
    "with open('example.txt', 'a') as file:\n",
    "    content = file.write(\"Good Evening\\n\")"
   ]
  },
  {
   "cell_type": "code",
   "execution_count": null,
   "metadata": {},
   "outputs": [],
   "source": [
    "### Writing from a source text file into a destination file\n",
    "## we are assigning the source file as example.txt and storing all the data in the content\n",
    "with open('example.txt','r') as src_txtfile:\n",
    "    content = src_txtfile.read()\n",
    "\n",
    "##now transferring the data in content into destination.txt using \"write\"\n",
    "with open('destination.txt','w') as dstn_txtfile:\n",
    "    dstn_txtfile.write(content)"
   ]
  },
  {
   "cell_type": "code",
   "execution_count": null,
   "metadata": {},
   "outputs": [],
   "source": []
  }
 ],
 "metadata": {
  "kernelspec": {
   "display_name": "Python 3",
   "language": "python",
   "name": "python3"
  },
  "language_info": {
   "codemirror_mode": {
    "name": "ipython",
    "version": 3
   },
   "file_extension": ".py",
   "mimetype": "text/x-python",
   "name": "python",
   "nbconvert_exporter": "python",
   "pygments_lexer": "ipython3",
   "version": "3.10.0"
  }
 },
 "nbformat": 4,
 "nbformat_minor": 2
}
